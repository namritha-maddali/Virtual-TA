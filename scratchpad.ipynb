{
 "cells": [
  {
   "cell_type": "markdown",
   "id": "0d05cc26",
   "metadata": {},
   "source": [
    "### **Testing the LLM and VLMs**"
   ]
  },
  {
   "cell_type": "code",
   "execution_count": 5,
   "id": "d45b5d64",
   "metadata": {},
   "outputs": [],
   "source": [
    "from dotenv import load_dotenv\n",
    "import os\n",
    "\n",
    "load_dotenv()\n",
    "moondream_api = os.getenv(\"MOONDREAM_API\")\n",
    "groq_api = os.getenv(\"GROQ_API\")\n"
   ]
  },
  {
   "cell_type": "code",
   "execution_count": 6,
   "id": "9c82c569",
   "metadata": {},
   "outputs": [
    {
     "name": "stdout",
     "output_type": "stream",
     "text": [
      "What a monumental task you've asked of me. Here's a comprehensive list of topics in the fields of Astronomy, Astrophysics, and Cosmology:\n",
      "\n",
      "**Astronomy:**\n",
      "\n",
      "1. **Planetary Science**:\n",
      "\t* Planetary formation and evolution\n",
      "\t* Planetary atmospheres and climates\n",
      "\t* Planetary geology and tectonics\n",
      "\t* Planetary magnetism and magnetic fields\n",
      "2. **Stellar Astronomy**:\n",
      "\t* Star formation and evolution\n",
      "\t* Stellar structure and atmospheres\n",
      "\t* Stellar populations and clusters\n",
      "\t* Binary and multiple star systems\n",
      "3. **Galactic Astronomy**:\n",
      "\t* Galaxy formation and evolution\n",
      "\t* Galaxy morphology and classification\n",
      "\t* Galactic structure and dynamics\n",
      "\t* Galactic nuclei and supermassive black holes\n",
      "4. **Extragalactic Astronomy**:\n",
      "\t* Galaxy clusters and large-scale structure\n",
      "\t* Active galactic nuclei (AGN) and quasars\n",
      "\t* Gravitational lensing and cosmological distances\n",
      "\t* Extragalactic surveys and observations\n",
      "5. **Astrometry and Celestial Mechanics**:\n",
      "\t* Positional astronomy and astrometry\n",
      "\t* Orbital mechanics and celestial dynamics\n",
      "\t* Timekeeping and astronomical clocks\n",
      "\t* Ephemerides and astronomical tables\n",
      "6. **Solar System**:\n",
      "\t* Sun and solar physics\n",
      "\t* Mercury and inner planets\n",
      "\t* Mars and outer planets\n",
      "\t* Asteroids, comets, and Kuiper Belt objects\n",
      "\t* Oort Cloud and interplanetary medium\n",
      "7. **Astronomical Techniques and Instrumentation**:\n",
      "\t* Telescopes and observatories\n",
      "\t* Detectors and instrumentation\n",
      "\t* Spectroscopy and interferometry\n",
      "\t* Adaptive optics and image processing\n",
      "\n",
      "**Astrophysics:**\n",
      "\n",
      "1. **High-Energy Astrophysics**:\n",
      "\t* X-ray and gamma-ray astronomy\n",
      "\t* Cosmic rays and particle astrophysics\n",
      "\t* Neutron stars and black holes\n",
      "\t* Supernovae and gamma-ray bursts\n",
      "2. **Plasma Astrophysics**:\n",
      "\t* Magnetohydrodynamics (MHD) and plasma physics\n",
      "\t* Solar wind and coronal physics\n",
      "\t* Stellar winds and mass loss\n",
      "\t* Interstellar medium and plasma astrophysics\n",
      "3. **Nuclear Astrophysics**:\n",
      "\t* Nuclear reactions and nucleosynthesis\n",
      "\t* Stellar evolution and nuclear burning\n",
      "\t* Supernovae and explosive nucleosynthesis\n",
      "\t* Cosmic rays and particle acceleration\n",
      "4. **Computational Astrophysics**:\n",
      "\t* Numerical methods and simulations\n",
      "\t* Computational fluid dynamics (CFD)\n",
      "\t* Magnetohydrodynamic (MHD) simulations\n",
      "\t* Radiative transfer and radiation hydrodynamics\n",
      "5. **Astrophysical Processes**:\n",
      "\t* Accretion and accretion disks\n",
      "\t* Outflows and jets\n",
      "\t* Magnetic reconnection and dynamos\n",
      "\t* Turbulence and chaotic systems\n",
      "6. **Particle Astrophysics**:\n",
      "\t* Dark matter and dark energy\n",
      "\t* Neutrino astrophysics and cosmology\n",
      "\t* Cosmic microwave background (CMB) and large-scale structure\n",
      "\t* Particle physics and the early universe\n",
      "7. **Gravitational Physics**:\n",
      "\t* General relativity and gravitational waves\n",
      "\t* Gravitational lensing and cosmology\n",
      "\t* Black holes and gravitational collapse\n",
      "\t* Gravitational wave astronomy and detection\n",
      "\n",
      "**Cosmology:**\n",
      "\n",
      "1. **Big Bang Theory and the Early Universe**:\n",
      "\t* Cosmological principle and homogeneity\n",
      "\t* Inflation and the very early universe\n",
      "\t* Big Bang nucleosynthesis and the CMB\n",
      "\t* Structure formation and the large-scale universe\n",
      "2. **Dark Matter and Dark Energy**:\n",
      "\t* Dark matter and its role in cosmology\n",
      "\t* Dark energy and the accelerating universe\n",
      "\t* Modified gravity and alternative theories\n",
      "\t* Dark matter and dark energy observations\n",
      "3. **Large-Scale Structure and Galaxy Formation**:\n",
      "\t* Galaxy clusters and superclusters\n",
      "\t* Cosmic web and large-scale structure\n",
      "\t* Galaxy formation and evolution\n",
      "\t* Simulations and semi-analytic models\n",
      "4. **Cosmic Microwave Background (CMB)**:\n",
      "\t* CMB observations and experiments\n",
      "\t* CMB theory and cosmological implications\n",
      "\t* CMB polarization and B-mode detection\n",
      "\t* CMB and large-scale structure\n",
      "5. **Gravitational Waves and Cosmology**:\n",
      "\t* Gravitational wave astronomy and detection\n",
      "\t* Gravitational wave cosmology and the early universe\n",
      "\t* Gravitational wave and CMB observations\n",
      "\t* Gravitational wave and large-scale structure\n",
      "6. **Alternative Theories and Models**:\n",
      "\t* Modified gravity and alternative theories\n",
      "\t* Braneworld scenarios and extra dimensions\n",
      "\t* Cyclic and ekpyrotic models\n",
      "\t* Quantum gravity and cosmology\n",
      "7. **Cosmological Observations and Surveys**:\n",
      "\t* Optical and infrared surveys\n",
      "\t* Radio and millimeter-wave surveys\n",
      "\t* X-ray and gamma-ray surveys\n",
      "\t* Cosmological simulations and data analysis\n",
      "\n",
      "**Interdisciplinary Topics:**\n",
      "\n",
      "1. **Astrobiology and the Search for Life**:\n",
      "\t* Origins of life and the primordial Earth\n",
      "\t* Astrobiological implications of exoplanets\n",
      "\t* Biosignatures and the search for life\n",
      "\t* The Drake Equation and the Fermi Paradox\n",
      "2. **Planetary Defense and Asteroid Hazards**:\n",
      "\t* Asteroid detection and tracking\n",
      "\t* Asteroid deflection and disruption\n",
      "\t* Comet and meteoroid hazards\n",
      "\t* Planetary defense and space missions\n",
      "3. **Space Weather and Radiation**:\n",
      "\t* Solar and space weather\n",
      "\t* Radiation and its effects on space missions\n",
      "\t* Space weather forecasting and prediction\n",
      "\t* Radiation protection and shielding\n",
      "4. **Astronomy and Society**:\n",
      "\t* Astronomy and culture\n",
      "\t* Astronomy and education\n",
      "\t* Astronomy and policy\n",
      "\t* Astronomy and the media\n",
      "\n",
      "This list is not exhaustive, but it covers a wide range of topics in Astronomy, Astrophysics, and Cosmology. Each topic can be further subdivided, and new areas of research are constantly emerging.\n"
     ]
    }
   ],
   "source": [
    "from groq import Groq\n",
    "\n",
    "client = Groq(api_key=groq_api)\n",
    "chat_completion = client.chat.completions.create(\n",
    "    messages=[\n",
    "      { \"role\": \"system\", \"content\": \"You are an astrophysics and astronomy expert who knows everything from the origin and theoretical explanations to the latest news in great detail.\"},\n",
    "      { \"role\": \"user\", \"content\": f\"Generate a list of all the topics in the field of Astronomy, Astrophysics and Cosmology\"}\n",
    "    ],\n",
    "    model=\"llama-3.3-70b-versatile\",\n",
    "    temperature=0.2,  # Some creativity allowed\n",
    "    seed=700,  # Deterministic seed\n",
    ")\n",
    "\n",
    "print(chat_completion.choices[0].message.content)"
   ]
  },
  {
   "cell_type": "code",
   "execution_count": 2,
   "id": "8e5c3746",
   "metadata": {},
   "outputs": [
    {
     "name": "stderr",
     "output_type": "stream",
     "text": [
      "c:\\Users\\namri\\Documents\\nam\\Data Science\\Virtual TA\\venv\\Lib\\site-packages\\tqdm\\auto.py:21: TqdmWarning: IProgress not found. Please update jupyter and ipywidgets. See https://ipywidgets.readthedocs.io/en/stable/user_install.html\n",
      "  from .autonotebook import tqdm as notebook_tqdm\n"
     ]
    }
   ],
   "source": [
    "from langchain_community.vectorstores import FAISS\n",
    "from langchain_huggingface.embeddings import HuggingFaceEmbeddings\n",
    "\n",
    "embedding_model = HuggingFaceEmbeddings(model_name=\"sentence-transformers/all-MiniLM-L6-v2\")\n",
    "db = FAISS.load_local(\"data/faiss\", embeddings=embedding_model, index_name=\"index\", allow_dangerous_deserialization=True)"
   ]
  },
  {
   "cell_type": "code",
   "execution_count": 8,
   "id": "7e91acb0",
   "metadata": {},
   "outputs": [],
   "source": [
    "question = \"Should I use gpt-4o-mini which AI proxy supports, or gpt3.5 turbo?\""
   ]
  },
  {
   "cell_type": "code",
   "execution_count": 9,
   "id": "0b463d7a",
   "metadata": {},
   "outputs": [
    {
     "data": {
      "text/plain": [
       "(np.float64(-0.5), np.float64(689.5), np.float64(268.5), np.float64(-0.5))"
      ]
     },
     "execution_count": 9,
     "metadata": {},
     "output_type": "execute_result"
    },
    {
     "data": {
      "image/png": "[encoded data removed]",
      "text/plain": [
       "<Figure size 640x480 with 1 Axes>"
      ]
     },
     "metadata": {},
     "output_type": "display_data"
    }
   ],
   "source": [
    "import matplotlib.pyplot as plt\n",
    "from PIL import Image\n",
    "image = Image.open(\"project-tds-virtual-ta-q1.webp\")\n",
    "plt.imshow(image)\n",
    "plt.axis('off')"
   ]
  },
  {
   "cell_type": "code",
   "execution_count": 10,
   "id": "c34b030e",
   "metadata": {},
   "outputs": [],
   "source": [
    "docs = db.similarity_search(question, k=3)\n",
    "context = \"\\n\\n\".join([doc.page_content for doc in docs])"
   ]
  },
  {
   "cell_type": "code",
   "execution_count": 11,
   "id": "640771c4",
   "metadata": {},
   "outputs": [],
   "source": [
    "import moondream as md\n",
    "model = md.vl(api_key=moondream_api)\n",
    "# model = md.vl(endpoint=\"http://localhost:2020/v1\")"
   ]
  },
  {
   "cell_type": "code",
   "execution_count": null,
   "id": "0ac11d0f",
   "metadata": {},
   "outputs": [],
   "source": [
    "vlm_prompt = f\"\"\"    \n",
    "    Answer the following question: {question}\n",
    "    \n",
    "    Answer:\n",
    "    \"\"\".strip()"
   ]
  },
  {
   "cell_type": "code",
   "execution_count": 14,
   "id": "396ebf0c",
   "metadata": {},
   "outputs": [],
   "source": [
    "vlm_answer = model.caption(image, length=\"normal\")['caption'].strip()"
   ]
  },
  {
   "cell_type": "code",
   "execution_count": 15,
   "id": "56578de2",
   "metadata": {},
   "outputs": [
    {
     "data": {
      "text/plain": [
       "'The image presents a math problem in Japanese, asking about the cost per million input tokens. The problem is presented in a multiple-choice format with four options, each marked with an \"o\" for the answer. The options are: 0.0018, 0.00175, 0.0017, and 0.00165. The question is based on the following text: \"If you passed the following text to the 1 gpt-3.5-turbo-0125 model, how many cents would the input (not output) cost, assuming that the cost per million input token is 50 cents?\". The correct answer is 0.00165.'"
      ]
     },
     "execution_count": 15,
     "metadata": {},
     "output_type": "execute_result"
    }
   ],
   "source": [
    "vlm_answer"
   ]
  },
  {
   "cell_type": "code",
   "execution_count": 16,
   "id": "3da7903f",
   "metadata": {},
   "outputs": [
    {
     "data": {
      "text/plain": [
       "'8. If you passed the following text to the\\n    1 gpt-3.5-turbo-0125\\n    model, how many cents would the input (not output) cost, assuming that the cost per million input token is 50 cents?\\n\\n確認から言語できなから、言語の必要な言語できなした。\\n\\n0.0018\\n0.00175\\n0.0017\\n0.00165'"
      ]
     },
     "execution_count": 16,
     "metadata": {},
     "output_type": "execute_result"
    }
   ],
   "source": [
    "vlm_answer = model.query(image, \"Transcribe the text in natural reading order\")['answer'].strip()\n",
    "vlm_answer"
   ]
  },
  {
   "cell_type": "code",
   "execution_count": 3,
   "id": "d8ff1d0c",
   "metadata": {},
   "outputs": [
    {
     "name": "stdout",
     "output_type": "stream",
     "text": [
      "--- Document 1 ---\n",
      "Metadata: {'source': 'https://discourse.onlinedegree.iitm.ac.in/t/ga4-bonus-marks/170309/1'}\n",
      "Content:\n",
      " Sir, I haven’t received bonus marks in ga4 as, i posted queries in discourse regarding ga4. I have scored 8 marks in ga4, but after bonus marks it should be 9, but in dashboard it is showing only 80 marks. Kindly, update my marks in dashboard. @carlton , @Jivraj , @Saransh_Saini\n",
      "--------------------------------------------------------------------------------\n",
      "--- Document 2 ---\n",
      "Metadata: {'source': 'https://discourse.onlinedegree.iitm.ac.in/t/graded-assignment-1-submission-not-shown/165396/18'}\n",
      "Content:\n",
      " Hi Mandy, Your scores will be pushed to the Dashboard from your saved submissions. Ignore the seek Portal result (that was a placeholder question to make students aware that GA had been released). Kind regards\n",
      "--------------------------------------------------------------------------------\n",
      "--- Document 3 ---\n",
      "Metadata: {'source': 'https://discourse.onlinedegree.iitm.ac.in/t/graded-assignment-1-submission-not-shown/165396/19'}\n",
      "Content:\n",
      " I have done my GA1 and scored 10/10 still it’s showing 0 on my dashboard. GA11519×799 75.2 KB\n",
      "--------------------------------------------------------------------------------\n",
      "--- Document 4 ---\n",
      "Metadata: {'source': 'https://discourse.onlinedegree.iitm.ac.in/t/graded-assignments-dashboard-scores-incorrect-missing/166816/5'}\n",
      "Content:\n",
      " @24ds3000061 @22f2001532 Can you check the dashboard now, I’ve been informed by operations that the scores have been pushed. GA 4 scores will be a little late to be pushed because there are some manual (i.e. automated using a custom written script) corrections that have to be made to Q4 for students who got Nur-Sultan as their city. Kind regards\n",
      "--------------------------------------------------------------------------------\n",
      "--- Document 5 ---\n",
      "Metadata: {'source': 'https://discourse.onlinedegree.iitm.ac.in/t/graded-assignment-1-submission-not-shown/165396/15'}\n",
      "Content:\n",
      " @Jivraj @carlton I had made my submission for GA1 on the website and also secured 9/10, image attached as shown. But in the course dashboard i missed out on the trivial step of clicking Yes. Since i am also logged in from my email on the evaluatio website and my score is saved, can iT PLEASE be considered for evaluation. image856×693 86.9 KB\n",
      "--------------------------------------------------------------------------------\n"
     ]
    }
   ],
   "source": [
    "query = \"If a student scores 10/10 on GA4 as well as a bonus, how would it appear on the dashboard?\"\n",
    "retrieved_docs = db.similarity_search(query, k=5)  # You can increase k if needed\n",
    "\n",
    "# Print retrieved docs\n",
    "for i, doc in enumerate(retrieved_docs, 1):\n",
    "    print(f\"--- Document {i} ---\")\n",
    "    print(\"Metadata:\", doc.metadata)\n",
    "    print(\"Content:\\n\", doc.page_content)\n",
    "    print(\"-\" * 80)"
   ]
  },
  {
   "cell_type": "code",
   "execution_count": null,
   "id": "45e688bb",
   "metadata": {},
   "outputs": [],
   "source": []
  }
 ],
 "metadata": {
  "kernelspec": {
   "display_name": "venv",
   "language": "python",
   "name": "python3"
  },
  "language_info": {
   "codemirror_mode": {
    "name": "ipython",
    "version": 3
   },
   "file_extension": ".py",
   "mimetype": "text/x-python",
   "name": "python",
   "nbconvert_exporter": "python",
   "pygments_lexer": "ipython3",
   "version": "3.12.4"
  }
 },
 "nbformat": 4,
 "nbformat_minor": 5
}
